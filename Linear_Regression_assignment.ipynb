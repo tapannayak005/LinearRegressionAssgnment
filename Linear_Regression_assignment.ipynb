{
 "cells": [
  {
   "cell_type": "markdown",
   "metadata": {
    "id": "WL1sX2Loc75Z"
   },
   "source": [
    "# IMPORTING NECESSARY LIBRARIES"
   ]
  },
  {
   "cell_type": "code",
   "execution_count": null,
   "metadata": {
    "id": "UYA_hc4hpr_b"
   },
   "outputs": [],
   "source": [
    "import numpy as np\n",
    "import pandas as pd\n",
    "import matplotlib.pyplot as plt\n",
    "import seaborn as sns"
   ]
  },
  {
   "cell_type": "code",
   "execution_count": 3,
   "metadata": {
    "id": "4suzoPTzp7qv"
   },
   "outputs": [],
   "source": [
    "from sklearn.model_selection import train_test_split\n",
    "from sklearn.preprocessing import StandardScaler\n",
    "\n",
    "from sklearn.feature_selection import RFE\n",
    "from sklearn.linear_model import LinearRegression\n",
    "\n",
    "from statsmodels.stats.outliers_influence import variance_inflation_factor\n",
    "import statsmodels.api as sm\n",
    "\n",
    "from sklearn.metrics import r2_score"
   ]
  },
  {
   "cell_type": "code",
   "execution_count": 4,
   "metadata": {
    "id": "pv80pij5IMkm"
   },
   "outputs": [],
   "source": [
    "import warnings\n",
    "warnings.filterwarnings('ignore')"
   ]
  },
  {
   "cell_type": "code",
   "execution_count": 5,
   "metadata": {
    "id": "Eh2So5kbp_-3"
   },
   "outputs": [
    {
     "ename": "FileNotFoundError",
     "evalue": "[Errno 2] No such file or directory: 'day.csv'",
     "output_type": "error",
     "traceback": [
      "\u001b[1;31m---------------------------------------------------------------------------\u001b[0m",
      "\u001b[1;31mFileNotFoundError\u001b[0m                         Traceback (most recent call last)",
      "Cell \u001b[1;32mIn[5], line 1\u001b[0m\n\u001b[1;32m----> 1\u001b[0m df \u001b[38;5;241m=\u001b[39m pd\u001b[38;5;241m.\u001b[39mread_csv(\u001b[38;5;124m\"\u001b[39m\u001b[38;5;124mday.csv\u001b[39m\u001b[38;5;124m\"\u001b[39m)\n",
      "File \u001b[1;32m~\\anaconda3\\Lib\\site-packages\\pandas\\io\\parsers\\readers.py:912\u001b[0m, in \u001b[0;36mread_csv\u001b[1;34m(filepath_or_buffer, sep, delimiter, header, names, index_col, usecols, dtype, engine, converters, true_values, false_values, skipinitialspace, skiprows, skipfooter, nrows, na_values, keep_default_na, na_filter, verbose, skip_blank_lines, parse_dates, infer_datetime_format, keep_date_col, date_parser, date_format, dayfirst, cache_dates, iterator, chunksize, compression, thousands, decimal, lineterminator, quotechar, quoting, doublequote, escapechar, comment, encoding, encoding_errors, dialect, on_bad_lines, delim_whitespace, low_memory, memory_map, float_precision, storage_options, dtype_backend)\u001b[0m\n\u001b[0;32m    899\u001b[0m kwds_defaults \u001b[38;5;241m=\u001b[39m _refine_defaults_read(\n\u001b[0;32m    900\u001b[0m     dialect,\n\u001b[0;32m    901\u001b[0m     delimiter,\n\u001b[1;32m   (...)\u001b[0m\n\u001b[0;32m    908\u001b[0m     dtype_backend\u001b[38;5;241m=\u001b[39mdtype_backend,\n\u001b[0;32m    909\u001b[0m )\n\u001b[0;32m    910\u001b[0m kwds\u001b[38;5;241m.\u001b[39mupdate(kwds_defaults)\n\u001b[1;32m--> 912\u001b[0m \u001b[38;5;28;01mreturn\u001b[39;00m _read(filepath_or_buffer, kwds)\n",
      "File \u001b[1;32m~\\anaconda3\\Lib\\site-packages\\pandas\\io\\parsers\\readers.py:577\u001b[0m, in \u001b[0;36m_read\u001b[1;34m(filepath_or_buffer, kwds)\u001b[0m\n\u001b[0;32m    574\u001b[0m _validate_names(kwds\u001b[38;5;241m.\u001b[39mget(\u001b[38;5;124m\"\u001b[39m\u001b[38;5;124mnames\u001b[39m\u001b[38;5;124m\"\u001b[39m, \u001b[38;5;28;01mNone\u001b[39;00m))\n\u001b[0;32m    576\u001b[0m \u001b[38;5;66;03m# Create the parser.\u001b[39;00m\n\u001b[1;32m--> 577\u001b[0m parser \u001b[38;5;241m=\u001b[39m TextFileReader(filepath_or_buffer, \u001b[38;5;241m*\u001b[39m\u001b[38;5;241m*\u001b[39mkwds)\n\u001b[0;32m    579\u001b[0m \u001b[38;5;28;01mif\u001b[39;00m chunksize \u001b[38;5;129;01mor\u001b[39;00m iterator:\n\u001b[0;32m    580\u001b[0m     \u001b[38;5;28;01mreturn\u001b[39;00m parser\n",
      "File \u001b[1;32m~\\anaconda3\\Lib\\site-packages\\pandas\\io\\parsers\\readers.py:1407\u001b[0m, in \u001b[0;36mTextFileReader.__init__\u001b[1;34m(self, f, engine, **kwds)\u001b[0m\n\u001b[0;32m   1404\u001b[0m     \u001b[38;5;28mself\u001b[39m\u001b[38;5;241m.\u001b[39moptions[\u001b[38;5;124m\"\u001b[39m\u001b[38;5;124mhas_index_names\u001b[39m\u001b[38;5;124m\"\u001b[39m] \u001b[38;5;241m=\u001b[39m kwds[\u001b[38;5;124m\"\u001b[39m\u001b[38;5;124mhas_index_names\u001b[39m\u001b[38;5;124m\"\u001b[39m]\n\u001b[0;32m   1406\u001b[0m \u001b[38;5;28mself\u001b[39m\u001b[38;5;241m.\u001b[39mhandles: IOHandles \u001b[38;5;241m|\u001b[39m \u001b[38;5;28;01mNone\u001b[39;00m \u001b[38;5;241m=\u001b[39m \u001b[38;5;28;01mNone\u001b[39;00m\n\u001b[1;32m-> 1407\u001b[0m \u001b[38;5;28mself\u001b[39m\u001b[38;5;241m.\u001b[39m_engine \u001b[38;5;241m=\u001b[39m \u001b[38;5;28mself\u001b[39m\u001b[38;5;241m.\u001b[39m_make_engine(f, \u001b[38;5;28mself\u001b[39m\u001b[38;5;241m.\u001b[39mengine)\n",
      "File \u001b[1;32m~\\anaconda3\\Lib\\site-packages\\pandas\\io\\parsers\\readers.py:1661\u001b[0m, in \u001b[0;36mTextFileReader._make_engine\u001b[1;34m(self, f, engine)\u001b[0m\n\u001b[0;32m   1659\u001b[0m     \u001b[38;5;28;01mif\u001b[39;00m \u001b[38;5;124m\"\u001b[39m\u001b[38;5;124mb\u001b[39m\u001b[38;5;124m\"\u001b[39m \u001b[38;5;129;01mnot\u001b[39;00m \u001b[38;5;129;01min\u001b[39;00m mode:\n\u001b[0;32m   1660\u001b[0m         mode \u001b[38;5;241m+\u001b[39m\u001b[38;5;241m=\u001b[39m \u001b[38;5;124m\"\u001b[39m\u001b[38;5;124mb\u001b[39m\u001b[38;5;124m\"\u001b[39m\n\u001b[1;32m-> 1661\u001b[0m \u001b[38;5;28mself\u001b[39m\u001b[38;5;241m.\u001b[39mhandles \u001b[38;5;241m=\u001b[39m get_handle(\n\u001b[0;32m   1662\u001b[0m     f,\n\u001b[0;32m   1663\u001b[0m     mode,\n\u001b[0;32m   1664\u001b[0m     encoding\u001b[38;5;241m=\u001b[39m\u001b[38;5;28mself\u001b[39m\u001b[38;5;241m.\u001b[39moptions\u001b[38;5;241m.\u001b[39mget(\u001b[38;5;124m\"\u001b[39m\u001b[38;5;124mencoding\u001b[39m\u001b[38;5;124m\"\u001b[39m, \u001b[38;5;28;01mNone\u001b[39;00m),\n\u001b[0;32m   1665\u001b[0m     compression\u001b[38;5;241m=\u001b[39m\u001b[38;5;28mself\u001b[39m\u001b[38;5;241m.\u001b[39moptions\u001b[38;5;241m.\u001b[39mget(\u001b[38;5;124m\"\u001b[39m\u001b[38;5;124mcompression\u001b[39m\u001b[38;5;124m\"\u001b[39m, \u001b[38;5;28;01mNone\u001b[39;00m),\n\u001b[0;32m   1666\u001b[0m     memory_map\u001b[38;5;241m=\u001b[39m\u001b[38;5;28mself\u001b[39m\u001b[38;5;241m.\u001b[39moptions\u001b[38;5;241m.\u001b[39mget(\u001b[38;5;124m\"\u001b[39m\u001b[38;5;124mmemory_map\u001b[39m\u001b[38;5;124m\"\u001b[39m, \u001b[38;5;28;01mFalse\u001b[39;00m),\n\u001b[0;32m   1667\u001b[0m     is_text\u001b[38;5;241m=\u001b[39mis_text,\n\u001b[0;32m   1668\u001b[0m     errors\u001b[38;5;241m=\u001b[39m\u001b[38;5;28mself\u001b[39m\u001b[38;5;241m.\u001b[39moptions\u001b[38;5;241m.\u001b[39mget(\u001b[38;5;124m\"\u001b[39m\u001b[38;5;124mencoding_errors\u001b[39m\u001b[38;5;124m\"\u001b[39m, \u001b[38;5;124m\"\u001b[39m\u001b[38;5;124mstrict\u001b[39m\u001b[38;5;124m\"\u001b[39m),\n\u001b[0;32m   1669\u001b[0m     storage_options\u001b[38;5;241m=\u001b[39m\u001b[38;5;28mself\u001b[39m\u001b[38;5;241m.\u001b[39moptions\u001b[38;5;241m.\u001b[39mget(\u001b[38;5;124m\"\u001b[39m\u001b[38;5;124mstorage_options\u001b[39m\u001b[38;5;124m\"\u001b[39m, \u001b[38;5;28;01mNone\u001b[39;00m),\n\u001b[0;32m   1670\u001b[0m )\n\u001b[0;32m   1671\u001b[0m \u001b[38;5;28;01massert\u001b[39;00m \u001b[38;5;28mself\u001b[39m\u001b[38;5;241m.\u001b[39mhandles \u001b[38;5;129;01mis\u001b[39;00m \u001b[38;5;129;01mnot\u001b[39;00m \u001b[38;5;28;01mNone\u001b[39;00m\n\u001b[0;32m   1672\u001b[0m f \u001b[38;5;241m=\u001b[39m \u001b[38;5;28mself\u001b[39m\u001b[38;5;241m.\u001b[39mhandles\u001b[38;5;241m.\u001b[39mhandle\n",
      "File \u001b[1;32m~\\anaconda3\\Lib\\site-packages\\pandas\\io\\common.py:859\u001b[0m, in \u001b[0;36mget_handle\u001b[1;34m(path_or_buf, mode, encoding, compression, memory_map, is_text, errors, storage_options)\u001b[0m\n\u001b[0;32m    854\u001b[0m \u001b[38;5;28;01melif\u001b[39;00m \u001b[38;5;28misinstance\u001b[39m(handle, \u001b[38;5;28mstr\u001b[39m):\n\u001b[0;32m    855\u001b[0m     \u001b[38;5;66;03m# Check whether the filename is to be opened in binary mode.\u001b[39;00m\n\u001b[0;32m    856\u001b[0m     \u001b[38;5;66;03m# Binary mode does not support 'encoding' and 'newline'.\u001b[39;00m\n\u001b[0;32m    857\u001b[0m     \u001b[38;5;28;01mif\u001b[39;00m ioargs\u001b[38;5;241m.\u001b[39mencoding \u001b[38;5;129;01mand\u001b[39;00m \u001b[38;5;124m\"\u001b[39m\u001b[38;5;124mb\u001b[39m\u001b[38;5;124m\"\u001b[39m \u001b[38;5;129;01mnot\u001b[39;00m \u001b[38;5;129;01min\u001b[39;00m ioargs\u001b[38;5;241m.\u001b[39mmode:\n\u001b[0;32m    858\u001b[0m         \u001b[38;5;66;03m# Encoding\u001b[39;00m\n\u001b[1;32m--> 859\u001b[0m         handle \u001b[38;5;241m=\u001b[39m \u001b[38;5;28mopen\u001b[39m(\n\u001b[0;32m    860\u001b[0m             handle,\n\u001b[0;32m    861\u001b[0m             ioargs\u001b[38;5;241m.\u001b[39mmode,\n\u001b[0;32m    862\u001b[0m             encoding\u001b[38;5;241m=\u001b[39mioargs\u001b[38;5;241m.\u001b[39mencoding,\n\u001b[0;32m    863\u001b[0m             errors\u001b[38;5;241m=\u001b[39merrors,\n\u001b[0;32m    864\u001b[0m             newline\u001b[38;5;241m=\u001b[39m\u001b[38;5;124m\"\u001b[39m\u001b[38;5;124m\"\u001b[39m,\n\u001b[0;32m    865\u001b[0m         )\n\u001b[0;32m    866\u001b[0m     \u001b[38;5;28;01melse\u001b[39;00m:\n\u001b[0;32m    867\u001b[0m         \u001b[38;5;66;03m# Binary mode\u001b[39;00m\n\u001b[0;32m    868\u001b[0m         handle \u001b[38;5;241m=\u001b[39m \u001b[38;5;28mopen\u001b[39m(handle, ioargs\u001b[38;5;241m.\u001b[39mmode)\n",
      "\u001b[1;31mFileNotFoundError\u001b[0m: [Errno 2] No such file or directory: 'day.csv'"
     ]
    }
   ],
   "source": [
    "df = pd.read_csv(\"day.csv\")"
   ]
  },
  {
   "cell_type": "code",
   "execution_count": null,
   "metadata": {
    "colab": {
     "base_uri": "https://localhost:8080/",
     "height": 313
    },
    "id": "vb-fehvVqBX-",
    "outputId": "00bc2630-3379-4acc-a9e7-345107b11e64"
   },
   "outputs": [],
   "source": [
    "df.head()"
   ]
  },
  {
   "cell_type": "code",
   "execution_count": null,
   "metadata": {
    "colab": {
     "base_uri": "https://localhost:8080/"
    },
    "id": "dLq63RjDqDSW",
    "outputId": "c7b3b218-24ae-49e2-ba56-af939f080f40"
   },
   "outputs": [],
   "source": [
    "df.info()"
   ]
  },
  {
   "cell_type": "markdown",
   "metadata": {
    "id": "S7Z-QW3MEhUQ"
   },
   "source": [
    "Our dataset does not contain any null values as described by the above prompt"
   ]
  },
  {
   "cell_type": "markdown",
   "metadata": {
    "id": "N_RK4BmLf81g"
   },
   "source": [
    "\n",
    "\n",
    "\n",
    "day.csv have the following fields:\n",
    "\n",
    "\t- instant: record index\n",
    "\t- dteday : date\n",
    "\t- season : season (1:spring, 2:summer, 3:fall, 4:winter)\n",
    "\t- yr : year (0: 2018, 1:2019)\n",
    "\t- mnth : month ( 1 to 12)\n",
    "\t- holiday : weather day is a holiday or not (extracted from http://dchr.dc.gov/page/holiday-schedule)\n",
    "\t- weekday : day of the week\n",
    "\t- workingday : if day is neither weekend nor holiday is 1, otherwise is 0.\n",
    "\t+ weathersit :\n",
    "\t\t- 1: Clear, Few clouds, Partly cloudy, Partly cloudy\n",
    "\t\t- 2: Mist + Cloudy, Mist + Broken clouds, Mist + Few clouds, Mist\n",
    "\t\t- 3: Light Snow, Light Rain + Thunderstorm + Scattered clouds, Light Rain + Scattered clouds\n",
    "\t\t- 4: Heavy Rain + Ice Pallets + Thunderstorm + Mist, Snow + Fog\n",
    "\t- temp : temperature in Celsius\n",
    "\t- atemp: feeling temperature in Celsius\n",
    "\t- hum: humidity\n",
    "\t- windspeed: wind speed\n",
    "\t- casual: count of casual users\n",
    "\t- registered: count of registered users\n",
    "\t- cnt: count of total rental bikes including both casual and registered"
   ]
  },
  {
   "cell_type": "code",
   "execution_count": null,
   "metadata": {
    "colab": {
     "base_uri": "https://localhost:8080/",
     "height": 320
    },
    "id": "nlEiOFzDK1ke",
    "outputId": "8c2c8d01-4236-4023-8c32-ee4a5437109a"
   },
   "outputs": [],
   "source": [
    "df.describe()"
   ]
  },
  {
   "cell_type": "markdown",
   "metadata": {
    "id": "KgvqY605K2zl"
   },
   "source": [
    "# DATA PREPROCESSING"
   ]
  },
  {
   "cell_type": "markdown",
   "metadata": {
    "id": "Rgn0LiOlcbJs"
   },
   "source": [
    "And its already mentioned that \"casual\" and \"registered\" users are not the target variables so I'm going to drop those columns as well"
   ]
  },
  {
   "cell_type": "code",
   "execution_count": null,
   "metadata": {
    "id": "va9X8HfWfmo0"
   },
   "outputs": [],
   "source": [
    "df.drop([\"casual\",\"registered\"], axis = 1, inplace = True)"
   ]
  },
  {
   "cell_type": "code",
   "execution_count": null,
   "metadata": {
    "colab": {
     "base_uri": "https://localhost:8080/",
     "height": 206
    },
    "id": "8pI_mgNalNRu",
    "outputId": "0a771618-bcaa-4378-ee53-8bcf4ad33a65"
   },
   "outputs": [],
   "source": [
    "df.head()"
   ]
  },
  {
   "cell_type": "markdown",
   "metadata": {
    "id": "q7cyxCeglQAN"
   },
   "source": [
    "Since we are dealing with data if only year 2018, 2019 I want to check for outliers in the dteday column"
   ]
  },
  {
   "cell_type": "code",
   "execution_count": null,
   "metadata": {
    "colab": {
     "base_uri": "https://localhost:8080/"
    },
    "id": "uvI0SOTPlgNC",
    "outputId": "29d80eb5-2862-4c16-d6ca-b9053a7586f0"
   },
   "outputs": [],
   "source": [
    "# a summary on years\n",
    "\n",
    "\"\"\".split(\"-\") will split the date into 3 different parts x.split[0]: date,\n",
    "x.split[1]: month, x.split[2]: year\"\"\"\n",
    "df[\"dteday\"].apply(lambda x: int(x.split(\"-\")[2])).describe()\n"
   ]
  },
  {
   "cell_type": "code",
   "execution_count": null,
   "metadata": {
    "colab": {
     "base_uri": "https://localhost:8080/"
    },
    "id": "KB9Hh9l3llZp",
    "outputId": "884e5f4c-445f-40d3-ed01-6aa12093496c"
   },
   "outputs": [],
   "source": [
    "# a summary on years\n",
    "df[\"dteday\"].apply(lambda x: int(x.split(\"-\")[0])).describe()\n",
    "\n",
    "#since we already have a month column there is o actual need to verify that"
   ]
  },
  {
   "cell_type": "code",
   "execution_count": null,
   "metadata": {
    "id": "fTfaSARJCf8_"
   },
   "outputs": [],
   "source": [
    "# I want to rename some columns for beter uncerstanding\n",
    "df.rename(columns = {\"yr\":\"year\", \"mnth\":\"month\", \"hum\":\"humidity\", \"cnt\":\"total_count\"}, inplace=True)"
   ]
  },
  {
   "cell_type": "code",
   "execution_count": null,
   "metadata": {
    "id": "9F2afGU8FMoB"
   },
   "outputs": [],
   "source": [
    "# making a local copy of our dataframe\n",
    "dataset = df.copy()"
   ]
  },
  {
   "cell_type": "code",
   "execution_count": null,
   "metadata": {
    "colab": {
     "base_uri": "https://localhost:8080/"
    },
    "id": "PEyH-YhaFgh2",
    "outputId": "af8f0847-eff5-4753-c75e-038e3911fa34"
   },
   "outputs": [],
   "source": [
    "# And I want to check for some duplicate rows in our data\n",
    "dataset.shape[0]\n",
    "print(\"Before Dropping Duplicates \\n\")\n",
    "print(f\"There are '{dataset.shape[0]}' rows and '{dataset.shape[1]}' columns in our dataset \\n\")\n",
    "#dropping duplicates\n",
    "dataset.drop_duplicates(inplace=True)\n",
    "print(\"\\nAfter Dropping Duplicates\")\n",
    "print(f\"There are '{dataset.shape[0]}' rows and '{dataset.shape[1]}' columns in our dataset \\n\")"
   ]
  },
  {
   "cell_type": "markdown",
   "metadata": {
    "id": "T_Jom4PTffXQ"
   },
   "source": [
    "#DATA VISUALIZATION"
   ]
  },
  {
   "cell_type": "markdown",
   "metadata": {
    "id": "T_3zUtsWzVb8"
   },
   "source": [
    "##Pairplot to see relation among variables"
   ]
  },
  {
   "cell_type": "code",
   "execution_count": null,
   "metadata": {
    "colab": {
     "base_uri": "https://localhost:8080/",
     "height": 1000
    },
    "id": "9UOIRuPQy3QS",
    "outputId": "c67f508e-b208-4c48-b057-1657371f3ac7"
   },
   "outputs": [],
   "source": [
    "#scatter plot shows us the relation between two variables, so I'm using pairplot to intricacies between variables\n",
    "sns.pairplot(dataset[[\"temp\",\"atemp\",\"humidity\",\"windspeed\",\"weathersit\",\"total_count\"]])\n",
    "plt.show()"
   ]
  },
  {
   "cell_type": "markdown",
   "metadata": {
    "id": "sa7F86MqttUC"
   },
   "source": [
    "### OBSERVATION :\n",
    "\n",
    "1. The relation between temp and atemp is highly correlated and this shows that there is a linear relationship between them.\n",
    "2. It can be said that when the humidity is above 40, more people prefer to take rented bikes.\n",
    "3. People are less likely to rent bikes when the wind speed is above 25."
   ]
  },
  {
   "cell_type": "markdown",
   "metadata": {
    "id": "BEE96RZe1OPz"
   },
   "source": [
    "##Season wise Distribution of total Rentals"
   ]
  },
  {
   "cell_type": "code",
   "execution_count": null,
   "metadata": {
    "colab": {
     "base_uri": "https://localhost:8080/",
     "height": 489
    },
    "id": "h2QH5eO1yND7",
    "outputId": "6f0e1a7c-400a-42d9-8a99-00b0f883fc65"
   },
   "outputs": [],
   "source": [
    "sns.barplot(x=\"season\", y=\"total_count\", data=dataset, hue=\"season\")\n",
    "plt.xlabel('Season')\n",
    "plt.ylabel('Total Rentals')\n",
    "plt.title('Total rentals by season')"
   ]
  },
  {
   "cell_type": "markdown",
   "metadata": {
    "id": "nH0CW8LPu2_u"
   },
   "source": [
    "### NOTE:\n",
    "\n",
    "But before we move further with the visualization I want to map values for some categorical features\n",
    "\n",
    "Categorical Features : \"Season, Year, Month, Weekday, Weathersit\""
   ]
  },
  {
   "cell_type": "markdown",
   "metadata": {
    "id": "VUVPw8a5nl8P"
   },
   "source": [
    "Since we are mapping string values to the categorical features we need to change their dtype"
   ]
  },
  {
   "cell_type": "code",
   "execution_count": null,
   "metadata": {
    "id": "yod73svMq0Iy"
   },
   "outputs": [],
   "source": [
    "#mapping correct values for the column \"Season\"\n",
    "season_list = {1:\"spring\",2:\"summer\",3:\"fall\", 4:\"winter\"}\n",
    "dataset.season = dataset.season.map(season_list)"
   ]
  },
  {
   "cell_type": "code",
   "execution_count": null,
   "metadata": {
    "id": "TuPg__ETq8sh"
   },
   "outputs": [],
   "source": [
    "#mapping correct values for the column \"Year\"\n",
    "dataset[\"year\"] = dataset[\"year\"].map({0:2018, 1:2019})"
   ]
  },
  {
   "cell_type": "code",
   "execution_count": null,
   "metadata": {
    "id": "bKiTebbxq_0h"
   },
   "outputs": [],
   "source": [
    "#mapping correct values for the column \"Month\"\n",
    "dataset[\"month\"] = dataset[\"month\"].map({1:\"Jan\",2:\"Feb\",3:\"Mar\",4:\"Apr\",\\\n",
    "                                         5:\"May\", 6:\"jun\",7:\"Jul\",8:\"Aug\",\\\n",
    "                                         9:\"Sep\", 10:\"Oct\",11:\"Nov\",12:\"Dec\"})"
   ]
  },
  {
   "cell_type": "code",
   "execution_count": null,
   "metadata": {
    "id": "izRlDpBXrDTa"
   },
   "outputs": [],
   "source": [
    "#mapping correct values for the column \"Weekday\"\n",
    "dataset[\"weekday\"] = dataset[\"weekday\"].map({0:\"sun\",1:\"mon\",2:\"tue\", 3:\"wed\", 4:\"thr\",\\\n",
    "                                             5:\"fri\",6:\"sat\"})"
   ]
  },
  {
   "cell_type": "code",
   "execution_count": null,
   "metadata": {
    "id": "P7YaCsiorEyk"
   },
   "outputs": [],
   "source": [
    "#mapping correct values for the column \"Weathersit\"\n",
    "dataset[\"weathersit\"] = dataset[\"weathersit\"].map({1:\"clear\",2:\"misty\",3:\"light snow & rain\",\\\n",
    "                                           4:\"heavy snow & rain\"})"
   ]
  },
  {
   "cell_type": "code",
   "execution_count": null,
   "metadata": {
    "colab": {
     "base_uri": "https://localhost:8080/",
     "height": 313
    },
    "id": "0Ewd3nSrq2Qp",
    "outputId": "e62aa10f-aee6-4b35-fd06-a963b370d82d"
   },
   "outputs": [],
   "source": [
    "dataset.head()"
   ]
  },
  {
   "cell_type": "markdown",
   "metadata": {
    "id": "dRp6yxx09-Ou"
   },
   "source": [
    "##3. Total Count by Month"
   ]
  },
  {
   "cell_type": "code",
   "execution_count": null,
   "metadata": {
    "colab": {
     "base_uri": "https://localhost:8080/",
     "height": 564
    },
    "id": "qkTWhoAV9qDv",
    "outputId": "7e92f329-54ee-4fc8-c290-1bc7d1c334d6"
   },
   "outputs": [],
   "source": [
    "mean_counts = df.groupby(\"month\")[\"total_count\"].mean()\n",
    "\n",
    "# Create a bar plot using Seaborn\n",
    "plt.figure(figsize=(10, 6))\n",
    "ax = sns.barplot(x=mean_counts.index, y=mean_counts.values)\n",
    "\n",
    "x_label = [\"Jan\", \"Feb\", \"Mar\", \"Apr\", \"May\", \"Jun\", \"Jul\", \"Aug\", \"Sep\", \"Oct\", \"Nov\", \"Dec\"]\n",
    "plt.xticks(range(len(x_label)), x_label, rotation=0)\n",
    "\n",
    "plt.xlabel(\"Month\")\n",
    "plt.ylabel(\"Mean Total Count\")\n",
    "plt.title(\"Mean Total Count by Month\")\n",
    "\n",
    "# Add values on top of bars\n",
    "for p in ax.patches:\n",
    "    ax.annotate(f\"{p.get_height():.0f}\", (p.get_x() + p.get_width() / 2., p.get_height()),\n",
    "                ha=\"center\", va=\"bottom\", fontsize=10)\n",
    "\n",
    "plt.show()"
   ]
  },
  {
   "cell_type": "code",
   "execution_count": null,
   "metadata": {
    "colab": {
     "base_uri": "https://localhost:8080/",
     "height": 449
    },
    "id": "ozOpcmv9iWb5",
    "outputId": "eb628946-52ee-4e26-ca77-c768ccd39e41"
   },
   "outputs": [],
   "source": [
    "sns.boxplot(data=dataset, x= \"month\", y=\"total_count\", hue = \"month\")\n",
    "plt.show()"
   ]
  },
  {
   "cell_type": "code",
   "execution_count": null,
   "metadata": {
    "colab": {
     "base_uri": "https://localhost:8080/",
     "height": 449
    },
    "id": "-8b_Cs7IkF0m",
    "outputId": "6f5d59ae-8b45-418a-d916-8b6dc1a8e887"
   },
   "outputs": [],
   "source": [
    "sns.boxplot(data=dataset, x=\"weekday\", y=\"total_count\", hue = \"weekday\")\n",
    "plt.show()"
   ]
  },
  {
   "cell_type": "markdown",
   "metadata": {
    "id": "YYMprdbfaXVu"
   },
   "source": [
    "##4. Season vs Weekday"
   ]
  },
  {
   "cell_type": "code",
   "execution_count": null,
   "metadata": {
    "colab": {
     "base_uri": "https://localhost:8080/",
     "height": 701
    },
    "id": "0G-SLMJUaPY8",
    "outputId": "9826047b-3230-4b89-ac35-e5369e0ade8e"
   },
   "outputs": [],
   "source": [
    "plt.subplots(figsize=(8, 8))\n",
    "df_2dhist = pd.DataFrame({\n",
    "    x_label: grp['weekday'].value_counts()\n",
    "    for x_label, grp in dataset.groupby('season')\n",
    "})\n",
    "sns.heatmap(df_2dhist, cmap='viridis', annot =True)\n",
    "plt.xlabel('season')\n",
    "_ = plt.ylabel('weekday')"
   ]
  },
  {
   "cell_type": "markdown",
   "metadata": {
    "id": "rPJ4Dd8V_4FU"
   },
   "source": [
    "##5. Average Temperature vs Total Rentals"
   ]
  },
  {
   "cell_type": "code",
   "execution_count": null,
   "metadata": {
    "colab": {
     "base_uri": "https://localhost:8080/",
     "height": 489
    },
    "id": "c9iGMy7V_wqq",
    "outputId": "d95b0155-8f54-45ee-c2e7-423ce39fbcde"
   },
   "outputs": [],
   "source": [
    "plt.scatter(df['temp'], df['total_count'], c=df['temp'], cmap='viridis')\n",
    "plt.xlabel('Temperature')\n",
    "plt.ylabel('Total Rentals')\n",
    "plt.title('Average Temperature vs Total Rentals')"
   ]
  },
  {
   "cell_type": "code",
   "execution_count": null,
   "metadata": {
    "colab": {
     "base_uri": "https://localhost:8080/",
     "height": 465
    },
    "id": "g-BV2qru3XxP",
    "outputId": "3b92c400-a4d1-4b64-ecda-71d67a82f5eb"
   },
   "outputs": [],
   "source": [
    "sns.barplot(data=dataset.groupby(\"year\")[\"total_count\"].sum())\n",
    "plt.show()"
   ]
  },
  {
   "cell_type": "code",
   "execution_count": null,
   "metadata": {
    "colab": {
     "base_uri": "https://localhost:8080/",
     "height": 465
    },
    "id": "gcsH0dgg427Q",
    "outputId": "c8e5c19f-bd9c-46a1-d5fa-5fcd056946f8"
   },
   "outputs": [],
   "source": [
    "sns.barplot(data=dataset.groupby(\"holiday\")[\"total_count\"].sum())\n",
    "plt.show()"
   ]
  },
  {
   "cell_type": "code",
   "execution_count": null,
   "metadata": {
    "colab": {
     "base_uri": "https://localhost:8080/",
     "height": 449
    },
    "id": "iFny20ke5RJG",
    "outputId": "d311e1b1-d53d-4e7d-a188-993aca98a7bf"
   },
   "outputs": [],
   "source": [
    "sns.barplot(data=dataset.groupby(\"weekday\")[\"total_count\"].sum())\n",
    "plt.show()"
   ]
  },
  {
   "cell_type": "markdown",
   "metadata": {
    "id": "ZyqYP0i-8kMm"
   },
   "source": [
    "## Correlation Heatmap"
   ]
  },
  {
   "cell_type": "code",
   "execution_count": null,
   "metadata": {
    "colab": {
     "base_uri": "https://localhost:8080/"
    },
    "id": "TWCG5BjMbJbs",
    "outputId": "157c956d-1f3b-4ec5-9d75-121434d18fbf"
   },
   "outputs": [],
   "source": [
    "dataset.info()"
   ]
  },
  {
   "cell_type": "code",
   "execution_count": null,
   "metadata": {
    "colab": {
     "base_uri": "https://localhost:8080/",
     "height": 519
    },
    "id": "AiiOGEK5bAWF",
    "outputId": "6f6b9d97-6611-4ece-edf1-fc3cffa2c2d9"
   },
   "outputs": [],
   "source": [
    "sns.heatmap(dataset[[\"temp\",\"atemp\",\"humidity\",\"workingday\",\"windspeed\",\"total_count\"]].corr(), annot=True, fmt='.2f')\n",
    "plt.title(\"Correlation Between Numerical Variables\")\n",
    "plt.show()"
   ]
  },
  {
   "cell_type": "markdown",
   "metadata": {
    "id": "ODvgN8JabGIM"
   },
   "source": [
    "## Observation :\n",
    "\n",
    "There is a very high correlation betwwen temp and atemp, using both of these features in our linear regression model will introduce the conept of multicollinearity."
   ]
  },
  {
   "cell_type": "code",
   "execution_count": null,
   "metadata": {
    "id": "tlq3PRdjZAiM"
   },
   "outputs": [],
   "source": [
    "dataset.drop(\"temp\",axis =1 , inplace = True)"
   ]
  },
  {
   "cell_type": "code",
   "execution_count": null,
   "metadata": {
    "colab": {
     "base_uri": "https://localhost:8080/",
     "height": 447
    },
    "id": "Wu-_hyHwV5qX",
    "outputId": "6bd87dfc-d07a-4076-af2a-7539a321fa3e"
   },
   "outputs": [],
   "source": [
    "dataset[\"total_count\"].plot.density()"
   ]
  },
  {
   "cell_type": "markdown",
   "metadata": {
    "id": "0hYEwyX1cMcL"
   },
   "source": [
    "#DATA PREPERATION"
   ]
  },
  {
   "cell_type": "markdown",
   "metadata": {
    "id": "ywVX4dcuoH5s"
   },
   "source": [
    "I'm going to create dummy variablkes for all the categorical features"
   ]
  },
  {
   "cell_type": "code",
   "execution_count": null,
   "metadata": {
    "id": "IauHcJb7lRRs"
   },
   "outputs": [],
   "source": [
    "# creating dummy variavles for month, weekdays, weathersi and season columns\n",
    "month_dummy = pd.get_dummies(dataset.month, drop_first = True)\n",
    "weekday_dummy = pd.get_dummies(dataset.weekday, drop_first=True)\n",
    "weathersit_dummy= pd.get_dummies(dataset.weathersit, drop_first=True)\n",
    "season_dummy = pd.get_dummies(dataset.season, drop_first=True)"
   ]
  },
  {
   "cell_type": "code",
   "execution_count": null,
   "metadata": {
    "id": "ovnEl6Rpvrwo"
   },
   "outputs": [],
   "source": [
    "#converting bool to int\n",
    "month_dummy = month_dummy.astype(int)\n",
    "weekday_dummy = weekday_dummy.astype(int)\n",
    "weathersit_dummy= weathersit_dummy.astype(int)\n",
    "season_dummy = season_dummy.astype(int)"
   ]
  },
  {
   "cell_type": "code",
   "execution_count": null,
   "metadata": {
    "id": "rxu8w7x0ow8I"
   },
   "outputs": [],
   "source": [
    "#merging these column sback into datset(local copy df)\n",
    "#new version of dataset column, dataset_new\n",
    "dataset_new = pd.concat([dataset, month_dummy, weekday_dummy, weathersit_dummy, season_dummy], axis= 1)"
   ]
  },
  {
   "cell_type": "code",
   "execution_count": null,
   "metadata": {
    "colab": {
     "base_uri": "https://localhost:8080/"
    },
    "id": "8FUPekQUpKZL",
    "outputId": "ea910944-a325-47e9-ec45-aad3ad8c2d6a"
   },
   "outputs": [],
   "source": [
    "dataset_new.info()"
   ]
  },
  {
   "cell_type": "code",
   "execution_count": null,
   "metadata": {
    "id": "1X5_mxzZpTGQ"
   },
   "outputs": [],
   "source": [
    "#dteday and instant does not prive any value so I'm going to drop those features.\n",
    "# And since we have created dummy variables we dont need \"Season\",\"Weekday\",\"month\", weathersit\" columns\n",
    "dataset_new.drop([\"instant\",\"dteday\",\"season\",\"weekday\",\"month\",\"weathersit\"], axis = 1, inplace =True)"
   ]
  },
  {
   "cell_type": "markdown",
   "metadata": {
    "id": "Cw3LsdC-wD0U"
   },
   "source": [
    "# SPLITTING THE DATA"
   ]
  },
  {
   "cell_type": "code",
   "execution_count": null,
   "metadata": {
    "colab": {
     "base_uri": "https://localhost:8080/"
    },
    "id": "pJcz6runbo3T",
    "outputId": "56882755-bd83-46ae-f8f7-bcb711a3c20a"
   },
   "outputs": [],
   "source": [
    "#specify the random seed\n",
    "np.random.seed(100)\n",
    "\n",
    "#usually we form 4 series variable x_train, y_trainm,m x_test and y_test  here I'll use two dataframes for simplicity\n",
    "dataset_train, dataset_test = train_test_split(dataset_new, train_size=0.7, random_state = 100)\n",
    "\n",
    "print(f\" The dataset_train has {dataset_train.shape[0]} rows and {dataset_train.shape[1]} columns.\")\n",
    "print(f\" The dataset_test has {dataset_test.shape[0]} rows and {dataset_test.shape[1]} columns.\")"
   ]
  },
  {
   "cell_type": "code",
   "execution_count": null,
   "metadata": {
    "colab": {
     "base_uri": "https://localhost:8080/",
     "height": 308
    },
    "id": "y2i2_NHLcPur",
    "outputId": "76f39294-ace8-43f9-ca9c-579cb1f288c5"
   },
   "outputs": [],
   "source": [
    "dataset_train.head()"
   ]
  },
  {
   "cell_type": "code",
   "execution_count": null,
   "metadata": {
    "colab": {
     "base_uri": "https://localhost:8080/",
     "height": 308
    },
    "id": "nbL7-bf0p-Ju",
    "outputId": "95a9897b-5910-4e4b-b3db-55885f78a736"
   },
   "outputs": [],
   "source": [
    "#rescaling features\n",
    "scaler = StandardScaler()\n",
    "num_features = [\"atemp\",\"humidity\",\"windspeed\"]\n",
    "\n",
    "#fit_transform\n",
    "dataset_train[num_features] = scaler.fit_transform(dataset_train[num_features])\n",
    "dataset_train.head()"
   ]
  },
  {
   "cell_type": "code",
   "execution_count": null,
   "metadata": {
    "colab": {
     "base_uri": "https://localhost:8080/",
     "height": 905
    },
    "id": "tuCybrC0xTD8",
    "outputId": "3883f47b-12d3-4a52-db7a-899ea3114cc3"
   },
   "outputs": [],
   "source": [
    "#Heatmap to see which feature is highly correlated\n",
    "plt.figure(figsize=(18, 14))\n",
    "sns.heatmap(data=dataset_new.corr(), annot=True, fmt=\".2f\")\n",
    "plt.show()"
   ]
  },
  {
   "cell_type": "markdown",
   "metadata": {
    "id": "_7ZceunPxufL"
   },
   "source": [
    "#TRAINING THE MODEL"
   ]
  },
  {
   "cell_type": "code",
   "execution_count": null,
   "metadata": {
    "id": "j17FevWSIcv8"
   },
   "outputs": [],
   "source": [
    "y_train = dataset_train.pop('total_count')\n",
    "x_train = dataset_train"
   ]
  },
  {
   "cell_type": "markdown",
   "metadata": {
    "id": "cXkp-MU_IxdY"
   },
   "source": [
    "## Building 1st model with all variables"
   ]
  },
  {
   "cell_type": "markdown",
   "metadata": {
    "id": "HnGH3r3bNg1t"
   },
   "source": [
    "### Test on Training Set"
   ]
  },
  {
   "cell_type": "code",
   "execution_count": null,
   "metadata": {
    "colab": {
     "base_uri": "https://localhost:8080/",
     "height": 1000
    },
    "id": "yFtgeofiJEJW",
    "outputId": "0557b054-22aa-46ef-c62c-f16cf7dd0ad4"
   },
   "outputs": [],
   "source": [
    "x_train_sm = sm.add_constant(x_train)\n",
    "lr = sm.OLS(y_train, x_train_sm)\n",
    "lr_model = lr.fit()\n",
    "lr_model.summary()"
   ]
  },
  {
   "cell_type": "markdown",
   "metadata": {
    "id": "adJYrrwLJyH9"
   },
   "source": [
    "### Checking its VIF"
   ]
  },
  {
   "cell_type": "code",
   "execution_count": null,
   "metadata": {
    "colab": {
     "base_uri": "https://localhost:8080/",
     "height": 927
    },
    "id": "Iu09uoUUOzZS",
    "outputId": "fc5c3ff3-d34d-45ac-e822-bd10ebb2b4a9"
   },
   "outputs": [],
   "source": [
    "vif = pd.DataFrame()\n",
    "vif[\"Features\"] = x_train.columns\n",
    "vif[\"VIF\"] = [variance_inflation_factor(x_train.values, i) for i in range(x_train.shape[1])]\n",
    "vif[\"VIF\"] = round(vif[\"VIF\"], 2)\n",
    "vif = vif.sort_values(by=\"VIF\", ascending = False)\n",
    "vif"
   ]
  },
  {
   "cell_type": "markdown",
   "metadata": {
    "id": "tS5mIb4kOxS9"
   },
   "source": [
    "## 2ND MODEL"
   ]
  },
  {
   "cell_type": "code",
   "execution_count": null,
   "metadata": {
    "colab": {
     "base_uri": "https://localhost:8080/",
     "height": 1000
    },
    "id": "1DF553VBPi9Z",
    "outputId": "2f9b0a30-504d-4426-f5e9-f11d412edee1"
   },
   "outputs": [],
   "source": [
    "#dropping the\"workingday\" column although it's P>|t| is 0.00 but it is shure introducing a lot of multicolinearity\n",
    "x = x_train.drop(\"workingday\", axis = 1)\n",
    "\n",
    "#creating new model on \"x\"\n",
    "x_train_sm = sm.add_constant(x)\n",
    "lr = sm.OLS(y_train, x_train_sm)\n",
    "lr_model = lr.fit()\n",
    "lr_model.summary()"
   ]
  },
  {
   "cell_type": "code",
   "execution_count": null,
   "metadata": {
    "colab": {
     "base_uri": "https://localhost:8080/",
     "height": 896
    },
    "id": "JU9MQxaoS5RJ",
    "outputId": "7be980f1-788a-4e39-9f89-17ccea6d1233"
   },
   "outputs": [],
   "source": [
    "vif = pd.DataFrame()\n",
    "vif[\"Features\"] = x.columns\n",
    "vif[\"VIF\"] = [variance_inflation_factor(x.values, i) for i in range(x.shape[1])]\n",
    "vif[\"VIF\"] = round(vif[\"VIF\"], 2)\n",
    "vif = vif.sort_values(by=\"VIF\", ascending = False)\n",
    "vif"
   ]
  },
  {
   "cell_type": "markdown",
   "metadata": {
    "id": "l_Q_nxOwVXlF"
   },
   "source": [
    "## 3RD MODEL"
   ]
  },
  {
   "cell_type": "code",
   "execution_count": null,
   "metadata": {
    "colab": {
     "base_uri": "https://localhost:8080/",
     "height": 987
    },
    "id": "z7PRSzogVXlF",
    "outputId": "373af85f-e90b-40bd-944b-6dbf157929e8"
   },
   "outputs": [],
   "source": [
    "#dropping the\"Oct\" column due to high P>|t| and VIF values\n",
    "\n",
    "x = x.drop(\"Oct\", axis = 1)\n",
    "\n",
    "#creating new model on \"x\"\n",
    "x_train_sm = sm.add_constant(x)\n",
    "lr = sm.OLS(y_train, x_train_sm)\n",
    "lr_model = lr.fit()\n",
    "lr_model.summary()"
   ]
  },
  {
   "cell_type": "code",
   "execution_count": null,
   "metadata": {
    "colab": {
     "base_uri": "https://localhost:8080/",
     "height": 865
    },
    "id": "mqtW47suVXlF",
    "outputId": "3cd9026b-e859-46a6-e48b-d5f1e482bba0"
   },
   "outputs": [],
   "source": [
    "vif = pd.DataFrame()\n",
    "vif[\"Features\"] = x.columns\n",
    "vif[\"VIF\"] = [variance_inflation_factor(x.values, i) for i in range(x.shape[1])]\n",
    "vif[\"VIF\"] = round(vif[\"VIF\"], 2)\n",
    "vif = vif.sort_values(by=\"VIF\", ascending = False)\n",
    "vif"
   ]
  },
  {
   "cell_type": "markdown",
   "metadata": {
    "id": "2MHBXMEpba_F"
   },
   "source": [
    "## 4TH MODEL"
   ]
  },
  {
   "cell_type": "code",
   "execution_count": null,
   "metadata": {
    "colab": {
     "base_uri": "https://localhost:8080/",
     "height": 967
    },
    "id": "piY8rkxGfaX_",
    "outputId": "73cc1598-3fe3-4b1b-b620-704256696ecf"
   },
   "outputs": [],
   "source": [
    "#dropping the \"Mar\" column due to high P>|t| and VIF values\n",
    "\n",
    "x = x.drop(\"Mar\", axis = 1)\n",
    "\n",
    "#creating new model on \"x\"\n",
    "x_train_sm = sm.add_constant(x)\n",
    "lr = sm.OLS(y_train, x_train_sm)\n",
    "lr_model = lr.fit()\n",
    "lr_model.summary()"
   ]
  },
  {
   "cell_type": "code",
   "execution_count": null,
   "metadata": {
    "colab": {
     "base_uri": "https://localhost:8080/",
     "height": 833
    },
    "id": "kfAMXIVTfaYI",
    "outputId": "97a815ab-1555-46d4-a1e6-14cfa42dd272"
   },
   "outputs": [],
   "source": [
    "vif = pd.DataFrame()\n",
    "vif[\"Features\"] = x.columns\n",
    "vif[\"VIF\"] = [variance_inflation_factor(x.values, i) for i in range(x.shape[1])]\n",
    "vif[\"VIF\"] = round(vif[\"VIF\"], 2)\n",
    "vif = vif.sort_values(by=\"VIF\", ascending = False)\n",
    "vif"
   ]
  },
  {
   "cell_type": "markdown",
   "metadata": {
    "id": "oXqmAEjflWp3"
   },
   "source": [
    "## 5TH MODEL"
   ]
  },
  {
   "cell_type": "code",
   "execution_count": null,
   "metadata": {
    "colab": {
     "base_uri": "https://localhost:8080/",
     "height": 946
    },
    "id": "a2fmPf6elW0q",
    "outputId": "e66b812a-8f26-4b1a-c0b3-93040dd81232"
   },
   "outputs": [],
   "source": [
    "#dropping the \"sat\" column due to high P>|t| and VIF values\n",
    "\n",
    "x = x.drop(\"sat\", axis = 1)\n",
    "\n",
    "#creating new model on \"x\"\n",
    "x_train_sm = sm.add_constant(x)\n",
    "lr = sm.OLS(y_train, x_train_sm)\n",
    "lr_model = lr.fit()\n",
    "lr_model.summary()"
   ]
  },
  {
   "cell_type": "code",
   "execution_count": null,
   "metadata": {
    "colab": {
     "base_uri": "https://localhost:8080/",
     "height": 802
    },
    "id": "t1UYJexglW0q",
    "outputId": "2685266d-7792-4da1-b17a-3065b6c0c214"
   },
   "outputs": [],
   "source": [
    "vif = pd.DataFrame()\n",
    "vif[\"Features\"] = x.columns\n",
    "vif[\"VIF\"] = [variance_inflation_factor(x.values, i) for i in range(x.shape[1])]\n",
    "vif[\"VIF\"] = round(vif[\"VIF\"], 2)\n",
    "vif = vif.sort_values(by=\"VIF\", ascending = False)\n",
    "vif"
   ]
  },
  {
   "cell_type": "markdown",
   "metadata": {
    "id": "yMgAIxhFlj6h"
   },
   "source": [
    "## 6TH MODEL"
   ]
  },
  {
   "cell_type": "code",
   "execution_count": null,
   "metadata": {
    "colab": {
     "base_uri": "https://localhost:8080/",
     "height": 925
    },
    "id": "HMbBb5UrndCM",
    "outputId": "93a96224-9056-4500-ffda-4603cbac237f"
   },
   "outputs": [],
   "source": [
    "#dropping the \"wed\" column due to high P>|t| and VIF values\n",
    "\n",
    "x = x.drop(\"wed\", axis = 1)\n",
    "\n",
    "#creating new model on \"x\"\n",
    "x_train_sm = sm.add_constant(x)\n",
    "lr = sm.OLS(y_train, x_train_sm)\n",
    "lr_model = lr.fit()\n",
    "lr_model.summary()"
   ]
  },
  {
   "cell_type": "code",
   "execution_count": null,
   "metadata": {
    "colab": {
     "base_uri": "https://localhost:8080/",
     "height": 771
    },
    "id": "0P4apLUGndCU",
    "outputId": "3e4bedac-35ba-4d84-b87a-d8c1985c6cd7"
   },
   "outputs": [],
   "source": [
    "vif = pd.DataFrame()\n",
    "vif[\"Features\"] = x.columns\n",
    "vif[\"VIF\"] = [variance_inflation_factor(x.values, i) for i in range(x.shape[1])]\n",
    "vif[\"VIF\"] = round(vif[\"VIF\"], 2)\n",
    "vif = vif.sort_values(by=\"VIF\", ascending = False)\n",
    "vif"
   ]
  },
  {
   "cell_type": "markdown",
   "metadata": {
    "id": "1D8SRq3YnmRm"
   },
   "source": [
    "## 7TH MODEL"
   ]
  },
  {
   "cell_type": "code",
   "execution_count": null,
   "metadata": {
    "colab": {
     "base_uri": "https://localhost:8080/",
     "height": 905
    },
    "id": "NL_DJsKGnmhN",
    "outputId": "5604de9a-9134-43e6-8d98-359a2c6ccfb3",
    "scrolled": true
   },
   "outputs": [],
   "source": [
    "#dropping the \"summer\" column due to high P>|t| and VIF values\n",
    "\n",
    "x = x.drop(\"summer\", axis = 1)\n",
    "\n",
    "#creating new model on \"x\"\n",
    "x_train_sm = sm.add_constant(x)\n",
    "lr = sm.OLS(y_train, x_train_sm)\n",
    "lr_model = lr.fit()\n",
    "lr_model.summary()"
   ]
  },
  {
   "cell_type": "code",
   "execution_count": null,
   "metadata": {
    "colab": {
     "base_uri": "https://localhost:8080/",
     "height": 739
    },
    "id": "yTNEucZvnmhO",
    "outputId": "4460d2fa-3a8b-412d-f0a1-1a0288c1de3f"
   },
   "outputs": [],
   "source": [
    "vif = pd.DataFrame()\n",
    "vif[\"Features\"] = x.columns\n",
    "vif[\"VIF\"] = [variance_inflation_factor(x.values, i) for i in range(x.shape[1])]\n",
    "vif[\"VIF\"] = round(vif[\"VIF\"], 2)\n",
    "vif = vif.sort_values(by=\"VIF\", ascending = False)\n",
    "vif"
   ]
  },
  {
   "cell_type": "markdown",
   "metadata": {
    "id": "FqADH9mBnzix"
   },
   "source": [
    "# TESTING THE OUTPUT - RESIDUAL ANALYSIS"
   ]
  },
  {
   "cell_type": "code",
   "execution_count": null,
   "metadata": {
    "colab": {
     "base_uri": "https://localhost:8080/",
     "height": 507
    },
    "id": "ZKbCgV-Qn27C",
    "outputId": "621ec410-049e-4493-c4cc-f0d6efd7dc98"
   },
   "outputs": [],
   "source": [
    "# Residual analysis\n",
    "y_train_pred = lr_model.predict(x_train_sm)\n",
    "res = y_train - y_train_pred\n",
    "\n",
    "# plot the residual\n",
    "fig = plt.figure()\n",
    "sns.distplot(res)\n",
    "fig.suptitle('Error Terms', fontsize = 20)\n",
    "plt.xlabel('Errors', fontsize = 18)\n",
    "plt.show()"
   ]
  },
  {
   "cell_type": "markdown",
   "metadata": {
    "id": "xDFJl_LnpczM"
   },
   "source": [
    "## OBSERVATION - ERROR TERMS\n",
    "Errors terms are normally distributed which indicate that the model's assumptions are met"
   ]
  },
  {
   "cell_type": "code",
   "execution_count": null,
   "metadata": {
    "colab": {
     "base_uri": "https://localhost:8080/",
     "height": 431
    },
    "id": "SAoNrltnoIv3",
    "outputId": "dc92eb80-b2da-426d-e0f3-cfe74e98a7a9"
   },
   "outputs": [],
   "source": [
    "# Homoscedasticity\n",
    "plt.scatter(res, y_train_pred)\n",
    "plt.show()"
   ]
  },
  {
   "cell_type": "markdown",
   "metadata": {
    "id": "eKS92OtppGH4"
   },
   "source": [
    "## OBSERVATION - ERROR TERMS\n",
    "There is no pattern observed in the above graph, hence Homoscedasticity assumption is satisfied"
   ]
  },
  {
   "cell_type": "markdown",
   "metadata": {
    "id": "cKN5CRI3pgpG"
   },
   "source": [
    "#PREDICTIONG AND EVALUATION"
   ]
  },
  {
   "cell_type": "code",
   "execution_count": null,
   "metadata": {
    "colab": {
     "base_uri": "https://localhost:8080/",
     "height": 308
    },
    "id": "2WL2jw1SpmpX",
    "outputId": "a6f5d8a3-7477-4963-f02d-f7e1f9e33dce"
   },
   "outputs": [],
   "source": [
    "# Rescaling on numeric variables for Test set\n",
    "num_vars = ['atemp','humidity','windspeed']\n",
    "\n",
    "# Fit on data\n",
    "dataset_test[num_vars] = scaler.transform(dataset_test[num_vars])\n",
    "dataset_test.head()"
   ]
  },
  {
   "cell_type": "code",
   "execution_count": null,
   "metadata": {
    "id": "YJfX-y1fpz_r"
   },
   "outputs": [],
   "source": [
    "y_test = dataset_test.pop(\"total_count\")\n",
    "x_test = dataset_test"
   ]
  },
  {
   "cell_type": "code",
   "execution_count": null,
   "metadata": {
    "colab": {
     "base_uri": "https://localhost:8080/",
     "height": 308
    },
    "id": "G5w4frUFtMhB",
    "outputId": "d2aa21ae-349e-428e-ee5f-bff786fc41e8"
   },
   "outputs": [],
   "source": [
    "dataset_test.head()"
   ]
  },
  {
   "cell_type": "code",
   "execution_count": null,
   "metadata": {
    "colab": {
     "base_uri": "https://localhost:8080/",
     "height": 308
    },
    "id": "KzVlO0Q3p8QD",
    "outputId": "e1001b02-082a-46be-b1ba-b1eb53caee16"
   },
   "outputs": [],
   "source": [
    "#adding a constant\n",
    "x_test_sm = sm.add_constant(x_test)\n",
    "x_test_sm.head()"
   ]
  },
  {
   "cell_type": "code",
   "execution_count": null,
   "metadata": {
    "colab": {
     "base_uri": "https://localhost:8080/",
     "height": 308
    },
    "id": "5b4MpaAnqDct",
    "outputId": "c6c13a6e-6def-404b-9d23-0f59cbf0edda"
   },
   "outputs": [],
   "source": [
    "# dropping the features which were not in the final model\n",
    "x_test_sm.drop([\"workingday\",\"Oct\",\"Mar\",\"sat\",\"wed\",\"summer\"], axis=1, inplace=True)\n",
    "x_test_sm.head()"
   ]
  },
  {
   "cell_type": "code",
   "execution_count": null,
   "metadata": {
    "id": "JqMXxGdUqug9"
   },
   "outputs": [],
   "source": [
    "#prediciting the model\n",
    "y_test_pred = lr_model.predict(x_test_sm)"
   ]
  },
  {
   "cell_type": "code",
   "execution_count": null,
   "metadata": {
    "colab": {
     "base_uri": "https://localhost:8080/"
    },
    "id": "dLLUQAOGq4N8",
    "outputId": "3c9018d4-1643-4ad9-ca24-a49ba9101116"
   },
   "outputs": [],
   "source": [
    "#evaluating\n",
    "r2_score(y_true= y_test, y_pred=y_test_pred)"
   ]
  },
  {
   "cell_type": "code",
   "execution_count": null,
   "metadata": {},
   "outputs": [],
   "source": []
  },
  {
   "cell_type": "code",
   "execution_count": null,
   "metadata": {},
   "outputs": [],
   "source": []
  }
 ],
 "metadata": {
  "colab": {
   "provenance": []
  },
  "kernelspec": {
   "display_name": "Python 3 (ipykernel)",
   "language": "python",
   "name": "python3"
  },
  "language_info": {
   "codemirror_mode": {
    "name": "ipython",
    "version": 3
   },
   "file_extension": ".py",
   "mimetype": "text/x-python",
   "name": "python",
   "nbconvert_exporter": "python",
   "pygments_lexer": "ipython3",
   "version": "3.11.5"
  }
 },
 "nbformat": 4,
 "nbformat_minor": 1
}
